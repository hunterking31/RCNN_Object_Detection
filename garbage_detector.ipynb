{
 "cells": [
  {
   "cell_type": "markdown",
   "metadata": {},
   "source": [
    "# GARBAGE DETECTOR"
   ]
  },
  {
   "cell_type": "markdown",
   "metadata": {},
   "source": [
    "### Importing Necessary Packages"
   ]
  },
  {
   "cell_type": "code",
   "execution_count": 5,
   "metadata": {},
   "outputs": [],
   "source": [
    "import os\n",
    "import numpy as np\n",
    "from bs4 import BeautifulSoup\n",
    "from imutils import paths\n",
    "import cv2\n",
    "import pickle\n",
    "\n",
    "from tensorflow.keras.preprocessing.image import ImageDataGenerator\n",
    "from tensorflow.keras.applications import MobileNetV2\n",
    "from tensorflow.keras.layers import AveragePooling2D\n",
    "from tensorflow.keras.layers import Dropout\n",
    "from tensorflow.keras.layers import Flatten\n",
    "from tensorflow.keras.layers import Dense\n",
    "from tensorflow.keras.layers import Input\n",
    "from tensorflow.keras.models import Model\n",
    "from tensorflow.keras.optimizers import Adam\n",
    "from tensorflow.keras.applications.mobilenet_v2 import preprocess_input\n",
    "from tensorflow.keras.preprocessing.image import img_to_array\n",
    "from tensorflow.keras.preprocessing.image import load_img\n",
    "from tensorflow.keras.utils import to_categorical\n",
    "from tensorflow.keras.models import load_model\n",
    "from tensorflow.keras.estimator import model_to_estimator\n",
    "\n",
    "from sklearn.preprocessing import LabelBinarizer\n",
    "from sklearn.model_selection import train_test_split\n",
    "from sklearn.metrics import classification_report\n",
    "import matplotlib.pyplot as plt\n",
    "from PIL import Image\n",
    "import imutils\n"
   ]
  },
  {
   "cell_type": "markdown",
   "metadata": {},
   "source": [
    "### Configuring directories and paths"
   ]
  },
  {
   "cell_type": "code",
   "execution_count": 2,
   "metadata": {},
   "outputs": [],
   "source": [
    "orig_base_path = r\"D:\\garbage\"\n",
    "orig_images = os.path.sep.join([orig_base_path,'images'])\n",
    "orig_annots = os.path.sep.join([orig_base_path,'annotations'])\n",
    "base_path = r\"D:\\garbage\\dataset\"\n",
    "positive_path = os.path.sep.join([base_path,\"garbage\"])\n",
    "negative_path = os.path.sep.join([base_path,\"no_garbage\"])\n",
    "\n",
    "max_proposal = 1000\n",
    "max_proposal_infer = 200\n",
    "\n",
    "max_positive = 30\n",
    "max_negative = 10\n",
    "\n",
    "input_dims = (224,224)\n",
    "\n",
    "model_path = \"garbage_detector.h5\"\n",
    "encoder_path = \"garbage_label_encoder.pickle\"\n",
    "\n",
    "min_prob = 0.90"
   ]
  },
  {
   "cell_type": "markdown",
   "metadata": {},
   "source": [
    "### Intersection Over Union (IOU)"
   ]
  },
  {
   "cell_type": "code",
   "execution_count": 3,
   "metadata": {},
   "outputs": [],
   "source": [
    "def compute_iou(boxA,boxB):\n",
    "    xA = max(boxA[0],boxB[0])\n",
    "    yA = max(boxA[1],boxB[1])\n",
    "    xB = max(boxA[2],boxB[2])\n",
    "    yB = max(boxA[3],boxB[3])\n",
    "    \n",
    "    interArea = max(0,xB-xA+1)*max(0,yB-yA+1)\n",
    "    boxAArea = (boxA[2]-boxA[0]+1)*(boxA[3]-boxA[1]+1)\n",
    "    boxBArea = (boxB[2]-boxB[0]+1)*(boxB[3]-boxB[1]+1)\n",
    "    \n",
    "    iou = interArea / float(boxAArea+boxBArea-interArea)\n",
    "    return iou"
   ]
  },
  {
   "cell_type": "markdown",
   "metadata": {},
   "source": [
    "### Non-Max Supression (NMS)"
   ]
  },
  {
   "cell_type": "code",
   "execution_count": 4,
   "metadata": {},
   "outputs": [],
   "source": [
    "def non_max_supression(boxes,probs=None,overlapThresh=0.1):\n",
    "    if len(boxes) == 0:\n",
    "        return []\n",
    "    if boxes.dtype.kind == 'i':\n",
    "        boxes = boxes.astype('float')\n",
    "    pick = []\n",
    "    x1 = boxes[:,0]\n",
    "    y1 = boxes[:,1]\n",
    "    x2 = boxes[:,2]\n",
    "    y2 = boxes[:,3]\n",
    "    \n",
    "    area = (x2-x1+1)*(y2-y1+1)\n",
    "    idxs = y2\n",
    "    if probs is not None:\n",
    "        idxs = probs\n",
    "    idxs = np.argsort(idxs)\n",
    "    while len(idxs)>0:\n",
    "        last = len(idxs)-1\n",
    "        i = idxs[last]\n",
    "        pick.append(i)\n",
    "        \n",
    "        xx1 = np.maximum(x1[i],x1[idxs[:last]])\n",
    "        yy1 = np.maximum(y1[i],y1[idxs[:last]])\n",
    "        xx2 = np.minimum(x2[i],x2[idxs[:last]])\n",
    "        yy2 = np.minimum(x2[i],x2[idxs[:last]])\n",
    "        \n",
    "        w = np.maximum(0,xx2-xx1+1)\n",
    "        h = np.maximum(0,yy2-yy1+1)\n",
    "        \n",
    "        overlap = (w*h)/area[idxs[:last]]\n",
    "        idxs  = np.delete(idxs,np.concatenate(([last],np.where(overlap>overlapThresh)[0])))\n",
    "    return pick"
   ]
  },
  {
   "cell_type": "markdown",
   "metadata": {},
   "source": [
    "### Building dataset to train our model"
   ]
  },
  {
   "cell_type": "code",
   "execution_count": null,
   "metadata": {},
   "outputs": [],
   "source": [
    "imagePaths = list(paths.list_images(orig_images))\n",
    "annotPaths = list(paths.list_files(orig_annots))\n",
    "\n",
    "for dirpath in (positive_path,negative_path):\n",
    "    if not os.path.exists(dirpath):\n",
    "        os.makedirs(dirpath)\n",
    "\n",
    "boxes = []\n",
    "neg_boxes = []\n",
    "for (i,img) in enumerate(imagePaths):\n",
    "    for i in annotPaths:\n",
    "        content = open(i).read()\n",
    "        soup = BeautifulSoup(content,'html.parser')\n",
    "        w = int(soup.find('width').string)\n",
    "        h = int(soup.find('height').string)\n",
    "    \n",
    "        for o in soup.find_all('object'):\n",
    "            xMin = int(float(o.find(\"xmin\").string))\n",
    "            yMin = int(float(o.find(\"ymin\").string))\n",
    "            xMax = int(float(o.find(\"xmax\").string))\n",
    "            yMax = int(float(o.find(\"ymax\").string))\n",
    "            \n",
    "            xMin = max(0,xMin)\n",
    "            yMin = max(0,yMin)\n",
    "            xMax = min(w,xMax)\n",
    "            yMax = min(h,yMax)\n",
    "\n",
    "            boxes.append([i,(xMin,yMin,xMax,yMax)])\n",
    "            neg_boxes.append((xMin,yMin,xMax,yMax))"
   ]
  },
  {
   "cell_type": "code",
   "execution_count": null,
   "metadata": {},
   "outputs": [],
   "source": [
    "aug = ImageDataGenerator(rotation_range=30,width_shift_range=0.1,height_shift_range=0.1,\n",
    "                        shear_range=0.2,zoom_range=0.2,horizontal_flip=True,fill_mode='nearest')"
   ]
  },
  {
   "cell_type": "markdown",
   "metadata": {},
   "source": [
    "###### Building for Positive class i.e. images of garbage alone"
   ]
  },
  {
   "cell_type": "code",
   "execution_count": null,
   "metadata": {},
   "outputs": [],
   "source": [
    "filename = 0\n",
    "for img in imagePaths:\n",
    "    for j in range(len(annotPaths)):\n",
    "        fl2 = boxes[j][0].split(os.path.sep)[-1]\n",
    "        fl2 = fl2[:fl2.rfind('.')]\n",
    "        fln = img\n",
    "        fl1 = fln.split(os.path.sep)[-1]\n",
    "        fl1 = fl1[:fl1.rfind('.')]\n",
    "        if (fl2 == fl1):\n",
    "            image = Image.open(fln)\n",
    "            image = image.convert('RGB')\n",
    "            image = image.crop(boxes[j][1])\n",
    "            image = image.resize(input_dims)\n",
    "            x = img_to_array(image)\n",
    "            x = x.reshape((1,)+x.shape)\n",
    "            i = 0\n",
    "            for batch in aug.flow(x,batch_size=1,save_to_dir=positive_path,save_prefix='garbage',save_format='jpg'):\n",
    "                i += 1\n",
    "                if i == 10:\n",
    "                    break"
   ]
  },
  {
   "cell_type": "markdown",
   "metadata": {},
   "source": [
    "##### Building for Negative class i.e. images without garbage"
   ]
  },
  {
   "cell_type": "code",
   "execution_count": null,
   "metadata": {},
   "outputs": [],
   "source": [
    "totalNegatives = 0\n",
    "\n",
    "for (i,imagepath) in enumerate(imagePaths):\n",
    "    \n",
    "    image = cv2.imread(imagepath)\n",
    "    ss = cv2.ximgproc.segmentation.createSelectiveSearchSegmentation()\n",
    "    ss.setBaseImage(image)\n",
    "    ss.switchToSelectiveSearchFast()\n",
    "    rects = ss.process()\n",
    "    \n",
    "    proposedRects = []\n",
    "    \n",
    "    for (x,y,w,h) in rects:\n",
    "        proposedRects.append((x,y,x+w,y+h))\n",
    "    negativeROIs = 0\n",
    "    \n",
    "    for proposedRect in proposedRects[:max_proposal]:\n",
    "        (propStartX,propStartY,propEndX,propEndY) = proposedRect\n",
    "        for gtBox in neg_boxes:\n",
    "            iou = compute_iou(gtBox,proposedRect)\n",
    "            (gtStartX,gtStartY,gtEndX,gtEndY) = gtBox\n",
    "            \n",
    "            roi = None\n",
    "            outputPath = None\n",
    "            \n",
    "            if iou < 0.05 and negativeROIs <= max_negative:\n",
    "                roi = image[propStartY:propEndY,propStartX:propEndX]\n",
    "                filename = \"{}.png\".format(totalNegatives)\n",
    "                outputPath = os.path.sep.join([negative_path,filename])\n",
    "                negativeROIs += 1\n",
    "                totalNegatives += 1\n",
    "            \n",
    "            if roi is not None and outputPath is not None:\n",
    "                roi = cv2.resize(roi,input_dims,interpolation=cv2.INTER_CUBIC)\n",
    "                cv2.imwrite(outputPath,roi)"
   ]
  },
  {
   "cell_type": "markdown",
   "metadata": {},
   "source": [
    "#### Model Building"
   ]
  },
  {
   "cell_type": "code",
   "execution_count": 8,
   "metadata": {},
   "outputs": [
    {
     "name": "stderr",
     "output_type": "stream",
     "text": [
      "C:\\Users\\prith\\anaconda3\\lib\\site-packages\\keras_applications\\mobilenet_v2.py:294: UserWarning: `input_shape` is undefined or non-square, or `rows` is not in [96, 128, 160, 192, 224]. Weights for input shape (224, 224) will be loaded as the default.\n",
      "  warnings.warn('`input_shape` is undefined or non-square, '\n"
     ]
    },
    {
     "name": "stdout",
     "output_type": "stream",
     "text": [
      "WARNING:tensorflow:sample_weight modes were coerced from\n",
      "  ...\n",
      "    to  \n",
      "  ['...']\n",
      "Train for 40 steps, validate on 324 samples\n",
      "Epoch 1/5\n",
      "40/40 [==============================] - 16s 392ms/step - loss: 0.5227 - accuracy: 0.7350 - val_loss: 0.1719 - val_accuracy: 0.9531\n",
      "Epoch 2/5\n",
      "40/40 [==============================] - 12s 311ms/step - loss: 0.2065 - accuracy: 0.9375 - val_loss: 0.0967 - val_accuracy: 0.9625\n",
      "Epoch 3/5\n",
      "40/40 [==============================] - 13s 316ms/step - loss: 0.1451 - accuracy: 0.9470 - val_loss: 0.0787 - val_accuracy: 0.9625\n",
      "Epoch 4/5\n",
      "40/40 [==============================] - 13s 325ms/step - loss: 0.1187 - accuracy: 0.9652 - val_loss: 0.0617 - val_accuracy: 0.9812\n",
      "Epoch 5/5\n",
      "40/40 [==============================] - 13s 315ms/step - loss: 0.0966 - accuracy: 0.9691 - val_loss: 0.0566 - val_accuracy: 0.9812\n",
      "              precision    recall  f1-score   support\n",
      "\n",
      "     garbage       0.97      0.99      0.98       152\n",
      "  no_garbage       0.99      0.98      0.98       172\n",
      "\n",
      "    accuracy                           0.98       324\n",
      "   macro avg       0.98      0.98      0.98       324\n",
      "weighted avg       0.98      0.98      0.98       324\n",
      "\n"
     ]
    },
    {
     "data": {
      "image/png": "[encoded data removed]",
      "text/plain": [
       "<Figure size 432x288 with 1 Axes>"
      ]
     },
     "metadata": {},
     "output_type": "display_data"
    },
    {
     "data": {
      "text/plain": [
       "<Figure size 432x288 with 0 Axes>"
      ]
     },
     "metadata": {},
     "output_type": "display_data"
    }
   ],
   "source": [
    "lr = 1e-4\n",
    "epoch = 5\n",
    "bs = 32\n",
    "\n",
    "imagePaths = list(paths.list_images(base_path))\n",
    "data  = []\n",
    "labels = []\n",
    "\n",
    "for imagePath in imagePaths:\n",
    "    label = imagePath.split(os.path.sep)[-2]\n",
    "    image = load_img(imagePath,target_size=input_dims)\n",
    "    image = img_to_array(image)\n",
    "    image = preprocess_input(image)\n",
    "    data.append(image)\n",
    "    labels.append(label)\n",
    "\n",
    "data = np.array(data,dtype='float32')\n",
    "labels = np.array(labels)\n",
    "\n",
    "lb = LabelBinarizer()\n",
    "labels = lb.fit_transform(labels)\n",
    "labels = to_categorical(labels)\n",
    "\n",
    "(xtrain,xtest,ytrain,ytest) = train_test_split(data,labels,test_size=0.2,stratify=labels,random_state=42)\n",
    "\n",
    "aug = ImageDataGenerator(rotation_range=20,zoom_range=0.15,width_shift_range=0.2,\n",
    "                        height_shift_range=0.2,shear_range=0.15,horizontal_flip=True,\n",
    "                        fill_mode=\"nearest\")\n",
    "\n",
    "baseModel = MobileNetV2(weights='imagenet',include_top=False,input_tensor=Input(shape=(224,224,3)))\n",
    "\n",
    "headModel = baseModel.output\n",
    "headModel = AveragePooling2D(pool_size=(7,7))(headModel)\n",
    "headModel = Flatten(name=\"flatten\")(headModel)\n",
    "headModel = Dense(128,activation='relu')(headModel)\n",
    "headModel = Dropout(0.5)(headModel)\n",
    "headModel = Dense(2,activation='softmax')(headModel)\n",
    "\n",
    "model = Model(inputs=baseModel.input,outputs=headModel)\n",
    "\n",
    "for layer in baseModel.layers:\n",
    "    layer.trainable = False\n",
    "    \n",
    "opt = Adam(learning_rate=lr)\n",
    "model.compile(loss='binary_crossentropy',optimizer=opt,metrics=['accuracy'])\n",
    "\n",
    "history = model.fit(aug.flow(xtrain,ytrain,batch_size=bs),steps_per_epoch=len(xtrain)//bs,\n",
    "                   validation_data=(xtest,ytest),validation_steps=len(xtest)//bs,epochs=epoch)\n",
    "\n",
    "predIdxs = model.predict(xtest,batch_size=bs)\n",
    "predIdxs = np.argmax(predIdxs,axis=1)\n",
    "\n",
    "print(classification_report(ytest.argmax(axis=1),predIdxs,target_names=lb.classes_))\n",
    "\n",
    "model.save(model_path,save_format='h5')\n",
    "f = open(encoder_path,'wb')\n",
    "f.write(pickle.dumps(lb))\n",
    "f.close()\n",
    "\n",
    "N = epoch\n",
    "plt.style.use(\"ggplot\")\n",
    "plt.figure()\n",
    "plt.plot(np.arange(0, N), history.history[\"loss\"],'-r', label=\"train_loss\")\n",
    "plt.plot(np.arange(0, N), history.history[\"val_loss\"],'--r', label=\"val_loss\")\n",
    "plt.plot(np.arange(0, N), history.history[\"accuracy\"],'-b', label=\"train_acc\")\n",
    "plt.plot(np.arange(0, N), history.history[\"val_accuracy\"],'--b', label=\"val_acc\")\n",
    "plt.title(\"Training Loss and Accuracy\")\n",
    "plt.xlabel(\"Epoch #\")\n",
    "plt.ylabel(\"Loss/Accuracy\")\n",
    "plt.legend(loc=\"best\")\n",
    "plt.show()\n",
    "plt.savefig('garbage_model.png')\n",
    "\n"
   ]
  },
  {
   "cell_type": "markdown",
   "metadata": {},
   "source": [
    "### Detector Model - RCNN"
   ]
  },
  {
   "cell_type": "code",
   "execution_count": null,
   "metadata": {},
   "outputs": [],
   "source": [
    "model = load_model('garbage_detector.h5')\n",
    "lb = pickle.loads(open(encoder_path,'rb').read())"
   ]
  },
  {
   "cell_type": "code",
   "execution_count": null,
   "metadata": {
    "scrolled": true
   },
   "outputs": [],
   "source": [
    "image_path = r'C:\\Users\\prith\\garbage0.jpg'\n",
    "image = cv2.imread(image_path)\n",
    "image = imutils.resize(image,width=500)\n",
    "\n",
    "ss = cv2.ximgproc.segmentation.createSelectiveSearchSegmentation()\n",
    "ss.setBaseImage(image)\n",
    "ss.switchToSelectiveSearchFast()\n",
    "rects = ss.process()\n",
    "\n",
    "proposals = []\n",
    "boxes = []\n",
    "\n",
    "for (x,y,w,h) in rects[:max_proposal_infer]:\n",
    "    roi = image[y:y+h,x:x+w]\n",
    "    roi = cv2.cvtColor(roi,cv2.COLOR_BGR2RGB)\n",
    "    roi = cv2.resize(roi,input_dims,interpolation=cv2.INTER_CUBIC)\n",
    "    roi = img_to_array(roi)\n",
    "    roi = preprocess_input(roi)\n",
    "    \n",
    "    proposals.append(roi)\n",
    "    boxes.append((x,y,x+w,y+h))\n",
    "    \n",
    "proposals = np.array(proposals,dtype='float32')\n",
    "boxes = np.array(boxes,dtype='int32')\n",
    "\n",
    "print('proposal shape {}'.format(proposals.shape))\n",
    "\n",
    "proba = model.predict(proposals)\n",
    "labels = lb.classes_[np.argmax(proba,axis=1)]\n",
    "idxs = np.where(labels == 'garbage')[0]\n",
    "\n",
    "\n",
    "boxes = boxes[idxs]\n",
    "proba = proba[idxs][:,0]\n",
    "\n",
    "idxs = np.where(proba >= min_prob)\n",
    "boxes = boxes[idxs]\n",
    "proba = proba[idxs]\n",
    "\n",
    "clone = image.copy()\n",
    "\n",
    "for box,prob in zip(boxes,proba):\n",
    "    (startX,startY,endX,endY) = box\n",
    "    cv2.rectangle(image,(startX,startY),(endX,endY),(255,255,255),2)\n",
    "    y = startY-10 if startY-10 >10 else startY+10\n",
    "    text = \"Garbage: {:.2f}%\".format(prob*100)\n",
    "    cv2.putText(image,text,(startX,y),cv2.FONT_HERSHEY_SIMPLEX,0.45,(0,255,0),2)\n",
    "cv2.imshow(\"before nms\",image)\n",
    "cv2.waitKey(0)\n",
    "\n",
    "boxIdxs = non_max_supression(boxes,proba)\n",
    "for i in boxIdxs:\n",
    "    (startX,startY,endX,endY) = boxes[i]\n",
    "    cv2.rectangle(clone,(startX,startY),(endX,endY),(255,255,255),2)\n",
    "    y = startY-10 if startY-10 >10 else startY+10\n",
    "    text = \"Garbage: {:.2f}%\".format(prob*100)\n",
    "    cv2.putText(clone,text,(startX,y),cv2.FONT_HERSHEY_SIMPLEX,0.45,(0,0,255),2)\n",
    "cv2.imshow(\"after nms\",clone)\n",
    "cv2.waitKey(0)\n"
   ]
  },
  {
   "cell_type": "code",
   "execution_count": null,
   "metadata": {},
   "outputs": [],
   "source": []
  }
 ],
 "metadata": {
  "kernelspec": {
   "display_name": "Python 3",
   "language": "python",
   "name": "python3"
  },
  "language_info": {
   "codemirror_mode": {
    "name": "ipython",
    "version": 3
   },
   "file_extension": ".py",
   "mimetype": "text/x-python",
   "name": "python",
   "nbconvert_exporter": "python",
   "pygments_lexer": "ipython3",
   "version": "3.7.7"
  }
 },
 "nbformat": 4,
 "nbformat_minor": 4
}
